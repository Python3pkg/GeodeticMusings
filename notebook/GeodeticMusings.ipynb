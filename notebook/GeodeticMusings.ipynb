{
 "metadata": {
  "name": "GeodeticMusings"
 },
 "nbformat": 3,
 "nbformat_minor": 0,
 "worksheets": [
  {
   "cells": [
    {
     "cell_type": "markdown",
     "metadata": {},
     "source": "#Geodetic musings\n\nThis is a litle benchmark of three Python libraries to compute great circle distances:\n- Pyproj.\n- Pygc.\n- GeographicLib."
    },
    {
     "cell_type": "markdown",
     "metadata": {},
     "source": "##Pyproj\nGreat circle computation with Pyproj\n(python interface to PROJ4 C library).\n\nhttps://github.com/jswhit/pyproj\n\nGreat Circle calculations using Charles Karney \ngeodesic algorithms:\n    C. F. F. Karney, Algorithms for Geodesics, \n        J. Geodesy 87(1), 43\u201355 (Jan. 2013)\n\nPROJ4 C library routines used to compute \ngreat circles  are a simple transcription from \nC. Karney Geographiclib C++ Library.\n\nhttps://trac.osgeo.org/proj/browser/trunk/proj/src/geodesic.h\n\nDefault values used (WGS84):\nhttps://github.com/jswhit/pyproj/blob/master/lib/pyproj/__init__.py\n   \n   - Semi-major axis: 6378137.0\n   - Inverse flattening: 298.257223563\n   \nTherefore:\n   - Semi-minor axis: 6356752.314245179\n   - Flattening: 0.0033528106647474805"
    },
    {
     "cell_type": "code",
     "collapsed": false,
     "input": "from pyproj import Geod",
     "language": "python",
     "metadata": {},
     "outputs": [],
     "prompt_number": 1
    },
    {
     "cell_type": "code",
     "collapsed": false,
     "input": "def grcrcl1(lon_1, lat_1, lon_2, lat_2):\n    \n    g = Geod(ellps='WGS84')\n    \n    az, az_inv, dist = g.inv(lon_1, lat_1, lon_2, lat_2)\n    \n    return dist",
     "language": "python",
     "metadata": {},
     "outputs": [],
     "prompt_number": 4
    },
    {
     "cell_type": "markdown",
     "metadata": {},
     "source": "##Pygc\nGreat circle computation with Pygc.\n\nhttps://github.com/axiom-data-science/pygc\n\nGreat Circle calculations using Vincenty's formulae:\n    http://en.wikipedia.org/wiki/Vincenty%27s_formulae\n\nDefault values used (WGS84):\nhttps://github.com/axiom-data-science/pygc/blob/master/pygc/gc.py\n    \n   - Semi-major axis: 6378137.0\n   - Semi-minor axis: 6356752.3142\n\nTherefore:\n   - Flattening: 0.0033528106718309896\n   - Inverse flattening: 298.2572229328697"
    },
    {
     "cell_type": "code",
     "collapsed": false,
     "input": "from pygc import great_distance",
     "language": "python",
     "metadata": {},
     "outputs": [],
     "prompt_number": 2
    },
    {
     "cell_type": "code",
     "collapsed": false,
     "input": "def grcrcl2(startlong, startlat, endlong, endlat):\n    \n    res = great_distance(start_latitude=startlat, start_longitude=startlong, \n                        end_latitude=endlat, end_longitude=endlong)\n    \n    return float(res['distance'])",
     "language": "python",
     "metadata": {},
     "outputs": [],
     "prompt_number": 5
    },
    {
     "cell_type": "markdown",
     "metadata": {},
     "source": "##GeographicLib\nGreat circle computation with GeographicLib \n(python interface to GeographicLib C++ library).\n\nhttp://geographiclib.sourceforge.net/html/other.html#python\n\nGreat Circle calculations using Charles Karney \ngeodesic algorithms:\n    C. F. F. Karney, Algorithms for Geodesics, \n    Journal of Geodesy 87(1), 43\u201355 (Jan. 2013)\n\nDefault values used (WGS84):\nhttp://geographiclib.sourceforge.net/html/Constants_8hpp_source.html\n   - Semi-major axis: 6378137.0\n   - Inverse flattening: 298.257223563\n\nTherefore:\n   - Semi-minor axis: 6356752.314245179\n   - Flattening: 0.0033528106647474805"
    },
    {
     "cell_type": "code",
     "collapsed": false,
     "input": "from geographiclib.geodesic import Geodesic",
     "language": "python",
     "metadata": {},
     "outputs": [],
     "prompt_number": 3
    },
    {
     "cell_type": "code",
     "collapsed": false,
     "input": "def grcrcl3(lon_1, lat_1, lon_2, lat_2):\n    \n    res = Geodesic.WGS84.Inverse(lat_1,lon_1,lat_2,lon_2)\n    \n    return res['s12']",
     "language": "python",
     "metadata": {},
     "outputs": [],
     "prompt_number": 6
    },
    {
     "cell_type": "markdown",
     "metadata": {},
     "source": "##Results\nFunction to print results from great circle distance functions:"
    },
    {
     "cell_type": "code",
     "collapsed": false,
     "input": "def printResults(input_coords):\n    \n    lon_1, lat_1, lon_2, lat_2 = input_coords\n    \n    dist1 = grcrcl1(lon_1, lat_1, lon_2, lat_2)\n    dist2 = grcrcl2(lon_1, lat_1, lon_2, lat_2)\n    dist3 = grcrcl3(lon_1, lat_1, lon_2, lat_2)\n    \n    print \"Distances for: lon_1 {0}, lat_1 {1}, lon_2 {2}, lat_2 {3}\\n\".format(lon_1, lat_1, lon_2, lat_2)\n    print \"Pyproj___________________________{:,.10f} m\\n\".format(dist1)\n    print \"Pygc_____________________________{:,.10f} m\\n\".format(dist2)\n    print \"GeographicLib____________________{:,.10f} m\\n\".format(dist3)\n    print \"Difference Pyproj,Pygc___________{:.15f} m\\n\".format(abs(dist1 - dist2))\n    print \"Difference Pyproj,GeographicLib__{:.15f} m\\n\".format(abs(dist1 - dist3))\n    print \"Difference GeographicLib,Pygc____{:.15f} m\\n\".format(abs(dist3 - dist2))\n    print \"------------------------------------------\\n\"",
     "language": "python",
     "metadata": {},
     "outputs": [],
     "prompt_number": 7
    },
    {
     "cell_type": "markdown",
     "metadata": {},
     "source": "Creating test data. Test data is a list of lists. Each inner list contains:\n - Start longitude.\n - Start latitude.\n - End longitude.\n - End latitude."
    },
    {
     "cell_type": "code",
     "collapsed": false,
     "input": "data = [\n        [-3.6,40.5,-118.4,33.9],\n        [-6.,37.,-145.,11.],\n        [-150.,37.,140.,11.],\n        [-50.,7.,40.,11.],\n        [-100.,80.,-140.,30.]\n    ]",
     "language": "python",
     "metadata": {},
     "outputs": [],
     "prompt_number": 8
    },
    {
     "cell_type": "markdown",
     "metadata": {},
     "source": "Printing three functions results with created test data:"
    },
    {
     "cell_type": "code",
     "collapsed": false,
     "input": "map(printResults, data)",
     "language": "python",
     "metadata": {},
     "outputs": [
      {
       "output_type": "stream",
       "stream": "stdout",
       "text": "Distances for: lon_1 -3.6, lat_1 40.5, lon_2 -118.4, lat_2 33.9\n\nPyproj___________________________9,406,468.4398682937 m\n\nPygc_____________________________9,406,468.4522715993 m\n\nGeographicLib____________________9,406,468.4536480606 m\n\nDifference Pyproj,Pygc___________0.012403305619955 m\n\nDifference Pyproj,GeographicLib__0.013779766857624 m\n\nDifference GeographicLib,Pygc____0.001376461237669 m\n\n------------------------------------------\n\nDistances for: lon_1 -6.0, lat_1 37.0, lon_2 -145.0, lat_2 11.0\n\nPyproj___________________________13,189,756.0277870093 m\n\nPygc_____________________________13,189,756.0719679464 m\n\nGeographicLib____________________13,189,756.0717643406 m\n\nDifference Pyproj,Pygc___________0.044180937111378 m\n\nDifference Pyproj,GeographicLib__0.043977331370115 m\n\nDifference GeographicLib,Pygc____0.000203605741262 m\n\n------------------------------------------\n\nDistances for: lon_1 -150.0, lat_1 37.0, lon_2 140.0, lat_2 11.0\n\nPyproj___________________________7,510,240.7935455162 m\n\nPygc_____________________________7,510,240.7865020484 m\n\nGeographicLib____________________7,510,240.7866536863 m\n\nDifference Pyproj,Pygc___________0.007043467834592 m\n\nDifference Pyproj,GeographicLib__0.006891829892993 m\n\nDifference GeographicLib,Pygc____0.000151637941599 m\n\n------------------------------------------\n\nDistances for: lon_1 -50.0, lat_1 7.0, lon_2 40.0, lat_2 11.0\n\nPyproj___________________________9,871,047.2090491671 m\n\nPygc_____________________________9,871,047.1963992771 m\n\nGeographicLib____________________9,871,047.1972853225 m\n\nDifference Pyproj,Pygc___________0.012649890035391 m\n\nDifference Pyproj,GeographicLib__0.011763844639063 m\n\nDifference GeographicLib,Pygc____0.000886045396328 m\n\n------------------------------------------\n\nDistances for: lon_1 -100.0, lat_1 80.0, lon_2 -140.0, lat_2 30.0\n\nPyproj___________________________5,853,723.4817370065 m\n\nPygc_____________________________5,853,723.4893133771 m\n\nGeographicLib____________________5,853,723.4893777100 m\n\nDifference Pyproj,Pygc___________0.007576370611787 m\n\nDifference Pyproj,GeographicLib__0.007640703581274 m\n\nDifference GeographicLib,Pygc____0.000064332969487 m\n\n------------------------------------------\n\n"
      },
      {
       "metadata": {},
       "output_type": "pyout",
       "prompt_number": 11,
       "text": "[None, None, None, None, None]"
      }
     ],
     "prompt_number": 11
    },
    {
     "cell_type": "markdown",
     "metadata": {},
     "source": "##Discussion\n\nThere are minor differences in outcomes though curiously the most puzzling is that the highest dissimilarity occur between Pyproj and GeographicLib which in theory using the same algorithms. More study of each library is needed to solve this mistery..."
    },
    {
     "cell_type": "code",
     "collapsed": false,
     "input": "",
     "language": "python",
     "metadata": {},
     "outputs": []
    }
   ],
   "metadata": {}
  }
 ]
}